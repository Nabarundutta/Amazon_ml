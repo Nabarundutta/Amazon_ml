{
  "nbformat": 4,
  "nbformat_minor": 0,
  "metadata": {
    "colab": {
      "provenance": [],
      "authorship_tag": "ABX9TyNbP7fsS0Ui00s/t65nKG+m",
      "include_colab_link": true
    },
    "kernelspec": {
      "name": "python3",
      "display_name": "Python 3"
    },
    "language_info": {
      "name": "python"
    }
  },
  "cells": [
    {
      "cell_type": "markdown",
      "metadata": {
        "id": "view-in-github",
        "colab_type": "text"
      },
      "source": [
        "<a href=\"https://colab.research.google.com/github/Nabarundutta/Amazon_ml/blob/master/OCR.ipynb\" target=\"_parent\"><img src=\"https://colab.research.google.com/assets/colab-badge.svg\" alt=\"Open In Colab\"/></a>"
      ]
    },
    {
      "cell_type": "code",
      "execution_count": null,
      "metadata": {
        "id": "UIPKdLjaGz8M"
      },
      "outputs": [],
      "source": [
        "import pandas as pd\n",
        "import numpy as np\n",
        "import matplotlib.pyplot as plt\n",
        "import seaborn as sns\n",
        "\n",
        "import os\n",
        "from pathlib import Path\n",
        "from collections import Counter\n",
        "\n",
        "import tensorflow\n",
        "from tensorflow import keras\n",
        "from tensorflow.keras import layers\n"
      ]
    },
    {
      "cell_type": "code",
      "source": [
        "!mkdir -p ~/.kaggle\n",
        "!cp kaggle.json ~/.kaggle/\n",
        "!chmod 600 ~/.kaggle/kaggle.json"
      ],
      "metadata": {
        "id": "qug6gIaXHUcg"
      },
      "execution_count": null,
      "outputs": []
    },
    {
      "cell_type": "code",
      "source": [
        "import zipfile\n",
        "zip_ref = zipfile.ZipFile('/content/captcha.zip','r') # Changed zipfile to ZipFile\n",
        "zip_ref.extractall('/content')\n",
        "zip_ref.close()"
      ],
      "metadata": {
        "id": "tfO1RFk4IbMP"
      },
      "execution_count": null,
      "outputs": []
    },
    {
      "cell_type": "code",
      "source": [
        "#path to directory\n",
        "data_dir = Path('./samples/')\n",
        "\n",
        "# get list of all image\n",
        "images = sorted(list(map(str, list(data_dir.glob('*.png')))))\n",
        "labels = [img.split(os.path.sep)[-1].split(\".png\")[0] for img in images]\n",
        "characters = set(char for label in labels for char in label)\n",
        "\n",
        "print(\"Number of images found: \", len(images))\n",
        "print(\"Number of labels found: \", len(labels))\n",
        "print(\"Number of unique characters: \", len(characters))\n",
        "print(\"Characters present: \", characters)\n",
        "\n",
        "# batch size for training and validation\n",
        "batch_size = 16\n",
        "\n",
        "# image dimension\n",
        "img_width = 200\n",
        "img_height = 50\n",
        "\n",
        "downsampling_factor=4\n",
        "## max length of the captcha\n",
        "max_length = max([len(label) for label in labels])\n"
      ],
      "metadata": {
        "colab": {
          "base_uri": "https://localhost:8080/"
        },
        "id": "SOOrlpdMIhQz",
        "outputId": "0b8b249c-83ba-4de9-fedc-d0d29d9c08b7"
      },
      "execution_count": null,
      "outputs": [
        {
          "output_type": "stream",
          "name": "stdout",
          "text": [
            "Number of images found:  1040\n",
            "Number of labels found:  1040\n",
            "Number of unique characters:  19\n",
            "Characters present:  {'y', '8', '3', '5', 'n', 'g', '6', 'c', '4', 'p', 'f', '2', 'x', 'm', '7', 'e', 'b', 'w', 'd'}\n"
          ]
        }
      ]
    },
    {
      "cell_type": "code",
      "source": [
        "len(images)"
      ],
      "metadata": {
        "colab": {
          "base_uri": "https://localhost:8080/"
        },
        "id": "3N0rsmRORueM",
        "outputId": "dd9846fc-3f34-42ff-92e4-2901ca78a0f2"
      },
      "execution_count": null,
      "outputs": [
        {
          "output_type": "execute_result",
          "data": {
            "text/plain": [
              "1040"
            ]
          },
          "metadata": {},
          "execution_count": 9
        }
      ]
    },
    {
      "cell_type": "code",
      "source": [
        "print(max_length)"
      ],
      "metadata": {
        "colab": {
          "base_uri": "https://localhost:8080/"
        },
        "id": "m9zsEFJpM-9O",
        "outputId": "963b8b07-56b6-4981-f401-6bf0c4e7d165"
      },
      "execution_count": null,
      "outputs": [
        {
          "output_type": "stream",
          "name": "stdout",
          "text": [
            "5\n"
          ]
        }
      ]
    },
    {
      "cell_type": "code",
      "source": [
        "np.arange(5)"
      ],
      "metadata": {
        "colab": {
          "base_uri": "https://localhost:8080/"
        },
        "id": "EBMiLEIuSU--",
        "outputId": "0e22e6a6-173d-4a89-d480-cb904f285d69"
      },
      "execution_count": null,
      "outputs": [
        {
          "output_type": "execute_result",
          "data": {
            "text/plain": [
              "array([0, 1, 2, 3, 4])"
            ]
          },
          "metadata": {},
          "execution_count": 10
        }
      ]
    },
    {
      "cell_type": "code",
      "source": [
        "# mapping characters to numbers\n",
        "char_to_num = tf.keras.layers.StringLookup(vocabulary=list(characters),mask_token=None,num_oov_indices=0)\n",
        "\n",
        "# mapping back numbers to characters\n",
        "num_to_char = tf.keras.layers.StringLookup(vocabulary=char_to_num.get_vocabulary(),mask_token=None,invert=True,num_oov_indices=0)\n",
        "\n",
        "def split_data(images,labels,train_size=0.9,shuffle=True):\n",
        "    # step1 get the total size of the images\n",
        "    size= len(images)\n",
        "    ## asign the indices\n",
        "    indices = np.arange(size)\n",
        "    if suffle:\n",
        "      np.random.shuffle(indices)\n",
        "\n"
      ],
      "metadata": {
        "id": "1g3FFRuPPfTv"
      },
      "execution_count": null,
      "outputs": []
    }
  ]
}