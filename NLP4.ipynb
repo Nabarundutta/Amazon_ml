{
  "nbformat": 4,
  "nbformat_minor": 0,
  "metadata": {
    "colab": {
      "provenance": [],
      "authorship_tag": "ABX9TyO60iQPN6YYJiu8Acozf7dm",
      "include_colab_link": true
    },
    "kernelspec": {
      "name": "python3",
      "display_name": "Python 3"
    },
    "language_info": {
      "name": "python"
    }
  },
  "cells": [
    {
      "cell_type": "markdown",
      "metadata": {
        "id": "view-in-github",
        "colab_type": "text"
      },
      "source": [
        "<a href=\"https://colab.research.google.com/github/Nabarundutta/Amazon_ml/blob/master/NLP4.ipynb\" target=\"_parent\"><img src=\"https://colab.research.google.com/assets/colab-badge.svg\" alt=\"Open In Colab\"/></a>"
      ]
    },
    {
      "cell_type": "code",
      "execution_count": 1,
      "metadata": {
        "id": "Rkw-5TuU_k-l"
      },
      "outputs": [],
      "source": [
        "import pandas as pd\n",
        "import numpy as np"
      ]
    },
    {
      "cell_type": "code",
      "source": [
        "df = pd.read_csv('processed_imdb.csv')[0:100]\n",
        "df.head()"
      ],
      "metadata": {
        "colab": {
          "base_uri": "https://localhost:8080/",
          "height": 345
        },
        "id": "SjiMupQmAChI",
        "outputId": "c56f213b-a6b4-42e1-ba52-26b1a9e748fd"
      },
      "execution_count": 3,
      "outputs": [
        {
          "output_type": "execute_result",
          "data": {
            "text/plain": [
              "                                              review  sentiment  \\\n",
              "0  one    reviewers  mentioned   watching  1 oz e...          1   \n",
              "1   wonderful little production  filming techniqu...          1   \n",
              "2   thought    wonderful way  spend time    hot s...          1   \n",
              "3  basically theres  family   little boy jake thi...          0   \n",
              "4  petter matteis love   time  money   visually s...          1   \n",
              "\n",
              "                                              tokens  \\\n",
              "0  ['one', '   ', 'reviewers', ' ', 'mentioned', ...   \n",
              "1  [' ', 'wonderful', 'little', 'production', ' '...   \n",
              "2  [' ', 'thought', '   ', 'wonderful', 'way', ' ...   \n",
              "3  ['basically', 'there', 's', ' ', 'family', '  ...   \n",
              "4  ['petter', 'matteis', 'love', '  ', 'time', ' ...   \n",
              "\n",
              "                                      stemmed_tokens  \n",
              "0  ['one', '   ', 'review', ' ', 'mention', '  ',...  \n",
              "1  [' ', 'wonder', 'littl', 'product', ' ', 'film...  \n",
              "2  [' ', 'thought', '   ', 'wonder', 'way', ' ', ...  \n",
              "3  ['basic', 'there', 's', ' ', 'famili', '  ', '...  \n",
              "4  ['petter', 'mattei', 'love', '  ', 'time', ' '...  "
            ],
            "text/html": [
              "\n",
              "  <div id=\"df-c0ff46c6-c469-4c61-9650-dcb4dcdb620b\" class=\"colab-df-container\">\n",
              "    <div>\n",
              "<style scoped>\n",
              "    .dataframe tbody tr th:only-of-type {\n",
              "        vertical-align: middle;\n",
              "    }\n",
              "\n",
              "    .dataframe tbody tr th {\n",
              "        vertical-align: top;\n",
              "    }\n",
              "\n",
              "    .dataframe thead th {\n",
              "        text-align: right;\n",
              "    }\n",
              "</style>\n",
              "<table border=\"1\" class=\"dataframe\">\n",
              "  <thead>\n",
              "    <tr style=\"text-align: right;\">\n",
              "      <th></th>\n",
              "      <th>review</th>\n",
              "      <th>sentiment</th>\n",
              "      <th>tokens</th>\n",
              "      <th>stemmed_tokens</th>\n",
              "    </tr>\n",
              "  </thead>\n",
              "  <tbody>\n",
              "    <tr>\n",
              "      <th>0</th>\n",
              "      <td>one    reviewers  mentioned   watching  1 oz e...</td>\n",
              "      <td>1</td>\n",
              "      <td>['one', '   ', 'reviewers', ' ', 'mentioned', ...</td>\n",
              "      <td>['one', '   ', 'review', ' ', 'mention', '  ',...</td>\n",
              "    </tr>\n",
              "    <tr>\n",
              "      <th>1</th>\n",
              "      <td>wonderful little production  filming techniqu...</td>\n",
              "      <td>1</td>\n",
              "      <td>[' ', 'wonderful', 'little', 'production', ' '...</td>\n",
              "      <td>[' ', 'wonder', 'littl', 'product', ' ', 'film...</td>\n",
              "    </tr>\n",
              "    <tr>\n",
              "      <th>2</th>\n",
              "      <td>thought    wonderful way  spend time    hot s...</td>\n",
              "      <td>1</td>\n",
              "      <td>[' ', 'thought', '   ', 'wonderful', 'way', ' ...</td>\n",
              "      <td>[' ', 'thought', '   ', 'wonder', 'way', ' ', ...</td>\n",
              "    </tr>\n",
              "    <tr>\n",
              "      <th>3</th>\n",
              "      <td>basically theres  family   little boy jake thi...</td>\n",
              "      <td>0</td>\n",
              "      <td>['basically', 'there', 's', ' ', 'family', '  ...</td>\n",
              "      <td>['basic', 'there', 's', ' ', 'famili', '  ', '...</td>\n",
              "    </tr>\n",
              "    <tr>\n",
              "      <th>4</th>\n",
              "      <td>petter matteis love   time  money   visually s...</td>\n",
              "      <td>1</td>\n",
              "      <td>['petter', 'matteis', 'love', '  ', 'time', ' ...</td>\n",
              "      <td>['petter', 'mattei', 'love', '  ', 'time', ' '...</td>\n",
              "    </tr>\n",
              "  </tbody>\n",
              "</table>\n",
              "</div>\n",
              "    <div class=\"colab-df-buttons\">\n",
              "\n",
              "  <div class=\"colab-df-container\">\n",
              "    <button class=\"colab-df-convert\" onclick=\"convertToInteractive('df-c0ff46c6-c469-4c61-9650-dcb4dcdb620b')\"\n",
              "            title=\"Convert this dataframe to an interactive table.\"\n",
              "            style=\"display:none;\">\n",
              "\n",
              "  <svg xmlns=\"http://www.w3.org/2000/svg\" height=\"24px\" viewBox=\"0 -960 960 960\">\n",
              "    <path d=\"M120-120v-720h720v720H120Zm60-500h600v-160H180v160Zm220 220h160v-160H400v160Zm0 220h160v-160H400v160ZM180-400h160v-160H180v160Zm440 0h160v-160H620v160ZM180-180h160v-160H180v160Zm440 0h160v-160H620v160Z\"/>\n",
              "  </svg>\n",
              "    </button>\n",
              "\n",
              "  <style>\n",
              "    .colab-df-container {\n",
              "      display:flex;\n",
              "      gap: 12px;\n",
              "    }\n",
              "\n",
              "    .colab-df-convert {\n",
              "      background-color: #E8F0FE;\n",
              "      border: none;\n",
              "      border-radius: 50%;\n",
              "      cursor: pointer;\n",
              "      display: none;\n",
              "      fill: #1967D2;\n",
              "      height: 32px;\n",
              "      padding: 0 0 0 0;\n",
              "      width: 32px;\n",
              "    }\n",
              "\n",
              "    .colab-df-convert:hover {\n",
              "      background-color: #E2EBFA;\n",
              "      box-shadow: 0px 1px 2px rgba(60, 64, 67, 0.3), 0px 1px 3px 1px rgba(60, 64, 67, 0.15);\n",
              "      fill: #174EA6;\n",
              "    }\n",
              "\n",
              "    .colab-df-buttons div {\n",
              "      margin-bottom: 4px;\n",
              "    }\n",
              "\n",
              "    [theme=dark] .colab-df-convert {\n",
              "      background-color: #3B4455;\n",
              "      fill: #D2E3FC;\n",
              "    }\n",
              "\n",
              "    [theme=dark] .colab-df-convert:hover {\n",
              "      background-color: #434B5C;\n",
              "      box-shadow: 0px 1px 3px 1px rgba(0, 0, 0, 0.15);\n",
              "      filter: drop-shadow(0px 1px 2px rgba(0, 0, 0, 0.3));\n",
              "      fill: #FFFFFF;\n",
              "    }\n",
              "  </style>\n",
              "\n",
              "    <script>\n",
              "      const buttonEl =\n",
              "        document.querySelector('#df-c0ff46c6-c469-4c61-9650-dcb4dcdb620b button.colab-df-convert');\n",
              "      buttonEl.style.display =\n",
              "        google.colab.kernel.accessAllowed ? 'block' : 'none';\n",
              "\n",
              "      async function convertToInteractive(key) {\n",
              "        const element = document.querySelector('#df-c0ff46c6-c469-4c61-9650-dcb4dcdb620b');\n",
              "        const dataTable =\n",
              "          await google.colab.kernel.invokeFunction('convertToInteractive',\n",
              "                                                    [key], {});\n",
              "        if (!dataTable) return;\n",
              "\n",
              "        const docLinkHtml = 'Like what you see? Visit the ' +\n",
              "          '<a target=\"_blank\" href=https://colab.research.google.com/notebooks/data_table.ipynb>data table notebook</a>'\n",
              "          + ' to learn more about interactive tables.';\n",
              "        element.innerHTML = '';\n",
              "        dataTable['output_type'] = 'display_data';\n",
              "        await google.colab.output.renderOutput(dataTable, element);\n",
              "        const docLink = document.createElement('div');\n",
              "        docLink.innerHTML = docLinkHtml;\n",
              "        element.appendChild(docLink);\n",
              "      }\n",
              "    </script>\n",
              "  </div>\n",
              "\n",
              "\n",
              "<div id=\"df-52bf396a-f1d9-4204-a493-c11988654474\">\n",
              "  <button class=\"colab-df-quickchart\" onclick=\"quickchart('df-52bf396a-f1d9-4204-a493-c11988654474')\"\n",
              "            title=\"Suggest charts\"\n",
              "            style=\"display:none;\">\n",
              "\n",
              "<svg xmlns=\"http://www.w3.org/2000/svg\" height=\"24px\"viewBox=\"0 0 24 24\"\n",
              "     width=\"24px\">\n",
              "    <g>\n",
              "        <path d=\"M19 3H5c-1.1 0-2 .9-2 2v14c0 1.1.9 2 2 2h14c1.1 0 2-.9 2-2V5c0-1.1-.9-2-2-2zM9 17H7v-7h2v7zm4 0h-2V7h2v10zm4 0h-2v-4h2v4z\"/>\n",
              "    </g>\n",
              "</svg>\n",
              "  </button>\n",
              "\n",
              "<style>\n",
              "  .colab-df-quickchart {\n",
              "      --bg-color: #E8F0FE;\n",
              "      --fill-color: #1967D2;\n",
              "      --hover-bg-color: #E2EBFA;\n",
              "      --hover-fill-color: #174EA6;\n",
              "      --disabled-fill-color: #AAA;\n",
              "      --disabled-bg-color: #DDD;\n",
              "  }\n",
              "\n",
              "  [theme=dark] .colab-df-quickchart {\n",
              "      --bg-color: #3B4455;\n",
              "      --fill-color: #D2E3FC;\n",
              "      --hover-bg-color: #434B5C;\n",
              "      --hover-fill-color: #FFFFFF;\n",
              "      --disabled-bg-color: #3B4455;\n",
              "      --disabled-fill-color: #666;\n",
              "  }\n",
              "\n",
              "  .colab-df-quickchart {\n",
              "    background-color: var(--bg-color);\n",
              "    border: none;\n",
              "    border-radius: 50%;\n",
              "    cursor: pointer;\n",
              "    display: none;\n",
              "    fill: var(--fill-color);\n",
              "    height: 32px;\n",
              "    padding: 0;\n",
              "    width: 32px;\n",
              "  }\n",
              "\n",
              "  .colab-df-quickchart:hover {\n",
              "    background-color: var(--hover-bg-color);\n",
              "    box-shadow: 0 1px 2px rgba(60, 64, 67, 0.3), 0 1px 3px 1px rgba(60, 64, 67, 0.15);\n",
              "    fill: var(--button-hover-fill-color);\n",
              "  }\n",
              "\n",
              "  .colab-df-quickchart-complete:disabled,\n",
              "  .colab-df-quickchart-complete:disabled:hover {\n",
              "    background-color: var(--disabled-bg-color);\n",
              "    fill: var(--disabled-fill-color);\n",
              "    box-shadow: none;\n",
              "  }\n",
              "\n",
              "  .colab-df-spinner {\n",
              "    border: 2px solid var(--fill-color);\n",
              "    border-color: transparent;\n",
              "    border-bottom-color: var(--fill-color);\n",
              "    animation:\n",
              "      spin 1s steps(1) infinite;\n",
              "  }\n",
              "\n",
              "  @keyframes spin {\n",
              "    0% {\n",
              "      border-color: transparent;\n",
              "      border-bottom-color: var(--fill-color);\n",
              "      border-left-color: var(--fill-color);\n",
              "    }\n",
              "    20% {\n",
              "      border-color: transparent;\n",
              "      border-left-color: var(--fill-color);\n",
              "      border-top-color: var(--fill-color);\n",
              "    }\n",
              "    30% {\n",
              "      border-color: transparent;\n",
              "      border-left-color: var(--fill-color);\n",
              "      border-top-color: var(--fill-color);\n",
              "      border-right-color: var(--fill-color);\n",
              "    }\n",
              "    40% {\n",
              "      border-color: transparent;\n",
              "      border-right-color: var(--fill-color);\n",
              "      border-top-color: var(--fill-color);\n",
              "    }\n",
              "    60% {\n",
              "      border-color: transparent;\n",
              "      border-right-color: var(--fill-color);\n",
              "    }\n",
              "    80% {\n",
              "      border-color: transparent;\n",
              "      border-right-color: var(--fill-color);\n",
              "      border-bottom-color: var(--fill-color);\n",
              "    }\n",
              "    90% {\n",
              "      border-color: transparent;\n",
              "      border-bottom-color: var(--fill-color);\n",
              "    }\n",
              "  }\n",
              "</style>\n",
              "\n",
              "  <script>\n",
              "    async function quickchart(key) {\n",
              "      const quickchartButtonEl =\n",
              "        document.querySelector('#' + key + ' button');\n",
              "      quickchartButtonEl.disabled = true;  // To prevent multiple clicks.\n",
              "      quickchartButtonEl.classList.add('colab-df-spinner');\n",
              "      try {\n",
              "        const charts = await google.colab.kernel.invokeFunction(\n",
              "            'suggestCharts', [key], {});\n",
              "      } catch (error) {\n",
              "        console.error('Error during call to suggestCharts:', error);\n",
              "      }\n",
              "      quickchartButtonEl.classList.remove('colab-df-spinner');\n",
              "      quickchartButtonEl.classList.add('colab-df-quickchart-complete');\n",
              "    }\n",
              "    (() => {\n",
              "      let quickchartButtonEl =\n",
              "        document.querySelector('#df-52bf396a-f1d9-4204-a493-c11988654474 button');\n",
              "      quickchartButtonEl.style.display =\n",
              "        google.colab.kernel.accessAllowed ? 'block' : 'none';\n",
              "    })();\n",
              "  </script>\n",
              "</div>\n",
              "\n",
              "    </div>\n",
              "  </div>\n"
            ],
            "application/vnd.google.colaboratory.intrinsic+json": {
              "type": "dataframe",
              "variable_name": "df",
              "summary": "{\n  \"name\": \"df\",\n  \"rows\": 100,\n  \"fields\": [\n    {\n      \"column\": \"review\",\n      \"properties\": {\n        \"dtype\": \"string\",\n        \"num_unique_values\": 100,\n        \"samples\": [\n          \"fate leads walter sparrow  come  possession   mysterious novel   eerie similarities  connections   life  based around  number 23   story unfolds  real life  fiction sparrow must figure   connection   book    story  eventually endthe number 23 offers  intriguing premise   undone   weak execution  film  failed  many different levels   pretty disappointing   held  much potential  screenplay  probably  worst part     filled  silly sequences  laughable dialog   killed  mood   movie  seemed like  screenwriter   good idea   didnt know   develop   stretch   ninety minute running time  second half   film  running low  ideas  twist  pretty obvious   ending  awfuljoel schumacher  responsible  one   worst movies ever    redeem   little  phone booth     films   number 23 reminds   hes still capable  making  stinker    movie drenched  style    cant get  good focus  moves  film   clunky  slow pace  switches  reality  whats actually happening   book  quickly got annoying  actual book   film thats titled  number 23   awful detective story   audience gets stuck listening  carrey narrate    bored   tears  carrey  finally done  book  get stuck watching  run around trying  solve  mystery   point  audience  lost interest     real tension  impatiently wait   movie  reach  horrible ending  unconvincing explanation  celebrating  film  finally finishedthe acting  mostly average  pretty forgettable jim carrey  clearly  sleepwalking   performance   didnt even seem   trying   either completely   top   scenes    wooden  narration   complete bore  listen    put  life inside  character virginia madsen   best  could   limited role   needs  pick better scripts logan lerman  pretty bland   danny huston overall  number 23   awful thriller  offered  laughs  suspense  thrills rating 310\",\n          \" cannot believe  enjoyed   much     anthology stories  better  par   linking story   surprise ending hooked  alot  familiar faces  keep  asking      seen   forget  running time listed  new lines tape  aint  103 minutes according   vcr timer  imdb space maggot douses  campfire    special way  hikes   8\",\n          \"caddyshack two   good movie    compared   original  cant stack  robert stack   horrible replacement  ted knight  jackie mason  funny  cant compete  rodney dangerfield ty webb  funny    character   original     characters   movie lack  punch   original henry wilcoxon  example except   hystericly funny lawyer peter blunt  played  randy quaid every line  says reminds    originals humor especially  scene   office  dont go   law suits  motions  find    live  come   house  beat   door   fing baseball bat make  bonfire   chippindalemaybe roast  golden retriever arff arff arff  eat    im comin upstairs junior  im grabbing    brooks brothers pjs  cramming  brand new bmw   tight      understanding offsetting  small role however  dan acroyd   obviously  replacement  bill murray  voice  beyond irritating  everything   isnt even funny   stupid overall caddyshack ii   good movie   comparison   awesome original   cant cut \"\n        ],\n        \"semantic_type\": \"\",\n        \"description\": \"\"\n      }\n    },\n    {\n      \"column\": \"sentiment\",\n      \"properties\": {\n        \"dtype\": \"number\",\n        \"std\": 0,\n        \"min\": 0,\n        \"max\": 1,\n        \"num_unique_values\": 2,\n        \"samples\": [\n          0,\n          1\n        ],\n        \"semantic_type\": \"\",\n        \"description\": \"\"\n      }\n    },\n    {\n      \"column\": \"tokens\",\n      \"properties\": {\n        \"dtype\": \"string\",\n        \"num_unique_values\": 100,\n        \"samples\": [\n          \"['fate', 'leads', 'walter', 'sparrow', ' ', 'come', ' ', 'possession', '  ', 'mysterious', 'novel', '  ', 'eerie', 'similarities', ' ', 'connections', '  ', 'life', ' ', 'based', 'around', ' ', 'number', '23', '  ', 'story', 'unfolds', ' ', 'real', 'life', ' ', 'fiction', 'sparrow', 'must', 'figure', '  ', 'connection', '  ', 'book', '   ', 'story', ' ', 'eventually', 'endthe', 'number', '23', 'offers', ' ', 'intriguing', 'premise', '  ', 'undone', '  ', 'weak', 'execution', ' ', 'film', ' ', 'failed', ' ', 'many', 'different', 'levels', '  ', 'pretty', 'disappointing', '  ', 'held', ' ', 'much', 'potential', ' ', 'screenplay', ' ', 'probably', ' ', 'worst', 'part', '    ', 'filled', ' ', 'silly', 'sequences', ' ', 'laughable', 'dialog', '  ', 'killed', ' ', 'mood', '  ', 'movie', ' ', 'seemed', 'like', ' ', 'screenwriter', '  ', 'good', 'idea', '  ', 'did', 'nt', 'know', '  ', 'develop', '  ', 'stretch', '  ', 'ninety', 'minute', 'running', 'time', ' ', 'second', 'half', '  ', 'film', ' ', 'running', 'low', ' ', 'ideas', ' ', 'twist', ' ', 'pretty', 'obvious', '  ', 'ending', ' ', 'awfuljoel', 'schumacher', ' ', 'responsible', ' ', 'one', '  ', 'worst', 'movies', 'ever', '   ', 'redeem', '  ', 'little', ' ', 'phone', 'booth', '    ', 'films', '  ', 'number', '23', 'reminds', '  ', 'he', 's', 'still', 'capable', ' ', 'making', ' ', 'stinker', '   ', 'movie', 'drenched', ' ', 'style', '   ', 'ca', 'nt', 'get', ' ', 'good', 'focus', ' ', 'moves', ' ', 'film', '  ', 'clunky', ' ', 'slow', 'pace', ' ', 'switches', ' ', 'reality', ' ', 'what', 's', 'actually', 'happening', '  ', 'book', ' ', 'quickly', 'got', 'annoying', ' ', 'actual', 'book', '  ', 'film', 'that', 's', 'titled', ' ', 'number', '23', '  ', 'awful', 'detective', 'story', '  ', 'audience', 'gets', 'stuck', 'listening', ' ', 'carrey', 'narrate', '   ', 'bored', '  ', 'tears', ' ', 'carrey', ' ', 'finally', 'done', ' ', 'book', ' ', 'get', 'stuck', 'watching', ' ', 'run', 'around', 'trying', ' ', 'solve', ' ', 'mystery', '  ', 'point', ' ', 'audience', ' ', 'lost', 'interest', '    ', 'real', 'tension', ' ', 'impatiently', 'wait', '  ', 'movie', ' ', 'reach', ' ', 'horrible', 'ending', ' ', 'unconvincing', 'explanation', ' ', 'celebrating', ' ', 'film', ' ', 'finally', 'finishedthe', 'acting', ' ', 'mostly', 'average', ' ', 'pretty', 'forgettable', 'jim', 'carrey', ' ', 'clearly', ' ', 'sleepwalking', '  ', 'performance', '  ', 'did', 'nt', 'even', 'seem', '  ', 'trying', '  ', 'either', 'completely', '  ', 'top', '  ', 'scenes', '   ', 'wooden', ' ', 'narration', '  ', 'complete', 'bore', ' ', 'listen', '   ', 'put', ' ', 'life', 'inside', ' ', 'character', 'virginia', 'madsen', '  ', 'best', ' ', 'could', '  ', 'limited', 'role', '  ', 'needs', ' ', 'pick', 'better', 'scripts', 'logan', 'lerman', ' ', 'pretty', 'bland', '  ', 'danny', 'huston', 'overall', ' ', 'number', '23', '  ', 'awful', 'thriller', ' ', 'offered', ' ', 'laughs', ' ', 'suspense', ' ', 'thrills', 'rating', '310']\",\n          \"[' ', 'can', 'not', 'believe', ' ', 'enjoyed', '  ', 'much', '    ', 'anthology', 'stories', ' ', 'better', ' ', 'par', '  ', 'linking', 'story', '  ', 'surprise', 'ending', 'hooked', ' ', 'alot', ' ', 'familiar', 'faces', ' ', 'keep', ' ', 'asking', '     ', 'seen', '  ', 'forget', ' ', 'running', 'time', 'listed', ' ', 'new', 'lines', 'tape', ' ', 'ai', 'nt', ' ', '103', 'minutes', 'according', '  ', 'vcr', 'timer', ' ', 'imdb', 'space', 'maggot', 'douses', ' ', 'campfire', '   ', 'special', 'way', ' ', 'hikes', '  ', '8']\"\n        ],\n        \"semantic_type\": \"\",\n        \"description\": \"\"\n      }\n    },\n    {\n      \"column\": \"stemmed_tokens\",\n      \"properties\": {\n        \"dtype\": \"string\",\n        \"num_unique_values\": 100,\n        \"samples\": [\n          \"['fate', 'lead', 'walter', 'sparrow', ' ', 'come', ' ', 'possess', '  ', 'mysteri', 'novel', '  ', 'eeri', 'similar', ' ', 'connect', '  ', 'life', ' ', 'base', 'around', ' ', 'number', '23', '  ', 'stori', 'unfold', ' ', 'real', 'life', ' ', 'fiction', 'sparrow', 'must', 'figur', '  ', 'connect', '  ', 'book', '   ', 'stori', ' ', 'eventu', 'endth', 'number', '23', 'offer', ' ', 'intrigu', 'premis', '  ', 'undon', '  ', 'weak', 'execut', ' ', 'film', ' ', 'fail', ' ', 'mani', 'differ', 'level', '  ', 'pretti', 'disappoint', '  ', 'held', ' ', 'much', 'potenti', ' ', 'screenplay', ' ', 'probabl', ' ', 'worst', 'part', '    ', 'fill', ' ', 'silli', 'sequenc', ' ', 'laughabl', 'dialog', '  ', 'kill', ' ', 'mood', '  ', 'movi', ' ', 'seem', 'like', ' ', 'screenwrit', '  ', 'good', 'idea', '  ', 'did', 'nt', 'know', '  ', 'develop', '  ', 'stretch', '  ', 'nineti', 'minut', 'run', 'time', ' ', 'second', 'half', '  ', 'film', ' ', 'run', 'low', ' ', 'idea', ' ', 'twist', ' ', 'pretti', 'obviou', '  ', 'end', ' ', 'awfuljoel', 'schumach', ' ', 'respons', ' ', 'one', '  ', 'worst', 'movi', 'ever', '   ', 'redeem', '  ', 'littl', ' ', 'phone', 'booth', '    ', 'film', '  ', 'number', '23', 'remind', '  ', 'he', 's', 'still', 'capabl', ' ', 'make', ' ', 'stinker', '   ', 'movi', 'drench', ' ', 'style', '   ', 'ca', 'nt', 'get', ' ', 'good', 'focu', ' ', 'move', ' ', 'film', '  ', 'clunki', ' ', 'slow', 'pace', ' ', 'switch', ' ', 'realiti', ' ', 'what', 's', 'actual', 'happen', '  ', 'book', ' ', 'quickli', 'got', 'annoy', ' ', 'actual', 'book', '  ', 'film', 'that', 's', 'titl', ' ', 'number', '23', '  ', 'aw', 'detect', 'stori', '  ', 'audienc', 'get', 'stuck', 'listen', ' ', 'carrey', 'narrat', '   ', 'bore', '  ', 'tear', ' ', 'carrey', ' ', 'final', 'done', ' ', 'book', ' ', 'get', 'stuck', 'watch', ' ', 'run', 'around', 'tri', ' ', 'solv', ' ', 'mysteri', '  ', 'point', ' ', 'audienc', ' ', 'lost', 'interest', '    ', 'real', 'tension', ' ', 'impati', 'wait', '  ', 'movi', ' ', 'reach', ' ', 'horribl', 'end', ' ', 'unconvinc', 'explan', ' ', 'celebr', ' ', 'film', ' ', 'final', 'finishedth', 'act', ' ', 'mostli', 'averag', ' ', 'pretti', 'forgett', 'jim', 'carrey', ' ', 'clearli', ' ', 'sleepwalk', '  ', 'perform', '  ', 'did', 'nt', 'even', 'seem', '  ', 'tri', '  ', 'either', 'complet', '  ', 'top', '  ', 'scene', '   ', 'wooden', ' ', 'narrat', '  ', 'complet', 'bore', ' ', 'listen', '   ', 'put', ' ', 'life', 'insid', ' ', 'charact', 'virginia', 'madsen', '  ', 'best', ' ', 'could', '  ', 'limit', 'role', '  ', 'need', ' ', 'pick', 'better', 'script', 'logan', 'lerman', ' ', 'pretti', 'bland', '  ', 'danni', 'huston', 'overal', ' ', 'number', '23', '  ', 'aw', 'thriller', ' ', 'offer', ' ', 'laugh', ' ', 'suspens', ' ', 'thrill', 'rate', '310']\",\n          \"[' ', 'can', 'not', 'believ', ' ', 'enjoy', '  ', 'much', '    ', 'antholog', 'stori', ' ', 'better', ' ', 'par', '  ', 'link', 'stori', '  ', 'surpris', 'end', 'hook', ' ', 'alot', ' ', 'familiar', 'face', ' ', 'keep', ' ', 'ask', '     ', 'seen', '  ', 'forget', ' ', 'run', 'time', 'list', ' ', 'new', 'line', 'tape', ' ', 'ai', 'nt', ' ', '103', 'minut', 'accord', '  ', 'vcr', 'timer', ' ', 'imdb', 'space', 'maggot', 'dous', ' ', 'campfir', '   ', 'special', 'way', ' ', 'hike', '  ', '8']\"\n        ],\n        \"semantic_type\": \"\",\n        \"description\": \"\"\n      }\n    }\n  ]\n}"
            }
          },
          "metadata": {},
          "execution_count": 3
        }
      ]
    },
    {
      "source": [
        "# @title sentiment\n",
        "\n",
        "from matplotlib import pyplot as plt\n",
        "df['sentiment'].plot(kind='hist', bins=20, title='sentiment')\n",
        "plt.gca().spines[['top', 'right',]].set_visible(False)"
      ],
      "cell_type": "code",
      "execution_count": 7,
      "outputs": [
        {
          "output_type": "display_data",
          "data": {
            "text/plain": [
              "<Figure size 640x480 with 1 Axes>"
            ],
            "image/png": "[encoded data removed]"
          },
          "metadata": {}
        }
      ],
      "metadata": {
        "colab": {
          "base_uri": "https://localhost:8080/",
          "height": 452
        },
        "id": "PMztqm-fBbQU",
        "outputId": "47902ff2-ca18-4ffb-ab7c-d3a79434cc57"
      }
    },
    {
      "cell_type": "code",
      "source": [
        "df.shape"
      ],
      "metadata": {
        "colab": {
          "base_uri": "https://localhost:8080/"
        },
        "id": "Um1m5nVVAKQq",
        "outputId": "782c874c-1078-417f-f1aa-74dfcdcfdae0"
      },
      "execution_count": 4,
      "outputs": [
        {
          "output_type": "execute_result",
          "data": {
            "text/plain": [
              "(100, 4)"
            ]
          },
          "metadata": {},
          "execution_count": 4
        }
      ]
    },
    {
      "cell_type": "code",
      "source": [
        "df.drop(columns=['review','tokens'],axis=1,inplace=True)"
      ],
      "metadata": {
        "id": "iJxgfaWfA00W"
      },
      "execution_count": 5,
      "outputs": []
    },
    {
      "cell_type": "code",
      "source": [
        "df.head()"
      ],
      "metadata": {
        "colab": {
          "base_uri": "https://localhost:8080/",
          "height": 206
        },
        "id": "FQp6Ks6vBQxb",
        "outputId": "94bbe344-5951-404e-cabe-0bd3f5819578"
      },
      "execution_count": 6,
      "outputs": [
        {
          "output_type": "execute_result",
          "data": {
            "text/plain": [
              "   sentiment                                     stemmed_tokens\n",
              "0          1  ['one', '   ', 'review', ' ', 'mention', '  ',...\n",
              "1          1  [' ', 'wonder', 'littl', 'product', ' ', 'film...\n",
              "2          1  [' ', 'thought', '   ', 'wonder', 'way', ' ', ...\n",
              "3          0  ['basic', 'there', 's', ' ', 'famili', '  ', '...\n",
              "4          1  ['petter', 'mattei', 'love', '  ', 'time', ' '..."
            ],
            "text/html": [
              "\n",
              "  <div id=\"df-7c6690aa-2eb3-409d-8a1f-3d14fd1ed134\" class=\"colab-df-container\">\n",
              "    <div>\n",
              "<style scoped>\n",
              "    .dataframe tbody tr th:only-of-type {\n",
              "        vertical-align: middle;\n",
              "    }\n",
              "\n",
              "    .dataframe tbody tr th {\n",
              "        vertical-align: top;\n",
              "    }\n",
              "\n",
              "    .dataframe thead th {\n",
              "        text-align: right;\n",
              "    }\n",
              "</style>\n",
              "<table border=\"1\" class=\"dataframe\">\n",
              "  <thead>\n",
              "    <tr style=\"text-align: right;\">\n",
              "      <th></th>\n",
              "      <th>sentiment</th>\n",
              "      <th>stemmed_tokens</th>\n",
              "    </tr>\n",
              "  </thead>\n",
              "  <tbody>\n",
              "    <tr>\n",
              "      <th>0</th>\n",
              "      <td>1</td>\n",
              "      <td>['one', '   ', 'review', ' ', 'mention', '  ',...</td>\n",
              "    </tr>\n",
              "    <tr>\n",
              "      <th>1</th>\n",
              "      <td>1</td>\n",
              "      <td>[' ', 'wonder', 'littl', 'product', ' ', 'film...</td>\n",
              "    </tr>\n",
              "    <tr>\n",
              "      <th>2</th>\n",
              "      <td>1</td>\n",
              "      <td>[' ', 'thought', '   ', 'wonder', 'way', ' ', ...</td>\n",
              "    </tr>\n",
              "    <tr>\n",
              "      <th>3</th>\n",
              "      <td>0</td>\n",
              "      <td>['basic', 'there', 's', ' ', 'famili', '  ', '...</td>\n",
              "    </tr>\n",
              "    <tr>\n",
              "      <th>4</th>\n",
              "      <td>1</td>\n",
              "      <td>['petter', 'mattei', 'love', '  ', 'time', ' '...</td>\n",
              "    </tr>\n",
              "  </tbody>\n",
              "</table>\n",
              "</div>\n",
              "    <div class=\"colab-df-buttons\">\n",
              "\n",
              "  <div class=\"colab-df-container\">\n",
              "    <button class=\"colab-df-convert\" onclick=\"convertToInteractive('df-7c6690aa-2eb3-409d-8a1f-3d14fd1ed134')\"\n",
              "            title=\"Convert this dataframe to an interactive table.\"\n",
              "            style=\"display:none;\">\n",
              "\n",
              "  <svg xmlns=\"http://www.w3.org/2000/svg\" height=\"24px\" viewBox=\"0 -960 960 960\">\n",
              "    <path d=\"M120-120v-720h720v720H120Zm60-500h600v-160H180v160Zm220 220h160v-160H400v160Zm0 220h160v-160H400v160ZM180-400h160v-160H180v160Zm440 0h160v-160H620v160ZM180-180h160v-160H180v160Zm440 0h160v-160H620v160Z\"/>\n",
              "  </svg>\n",
              "    </button>\n",
              "\n",
              "  <style>\n",
              "    .colab-df-container {\n",
              "      display:flex;\n",
              "      gap: 12px;\n",
              "    }\n",
              "\n",
              "    .colab-df-convert {\n",
              "      background-color: #E8F0FE;\n",
              "      border: none;\n",
              "      border-radius: 50%;\n",
              "      cursor: pointer;\n",
              "      display: none;\n",
              "      fill: #1967D2;\n",
              "      height: 32px;\n",
              "      padding: 0 0 0 0;\n",
              "      width: 32px;\n",
              "    }\n",
              "\n",
              "    .colab-df-convert:hover {\n",
              "      background-color: #E2EBFA;\n",
              "      box-shadow: 0px 1px 2px rgba(60, 64, 67, 0.3), 0px 1px 3px 1px rgba(60, 64, 67, 0.15);\n",
              "      fill: #174EA6;\n",
              "    }\n",
              "\n",
              "    .colab-df-buttons div {\n",
              "      margin-bottom: 4px;\n",
              "    }\n",
              "\n",
              "    [theme=dark] .colab-df-convert {\n",
              "      background-color: #3B4455;\n",
              "      fill: #D2E3FC;\n",
              "    }\n",
              "\n",
              "    [theme=dark] .colab-df-convert:hover {\n",
              "      background-color: #434B5C;\n",
              "      box-shadow: 0px 1px 3px 1px rgba(0, 0, 0, 0.15);\n",
              "      filter: drop-shadow(0px 1px 2px rgba(0, 0, 0, 0.3));\n",
              "      fill: #FFFFFF;\n",
              "    }\n",
              "  </style>\n",
              "\n",
              "    <script>\n",
              "      const buttonEl =\n",
              "        document.querySelector('#df-7c6690aa-2eb3-409d-8a1f-3d14fd1ed134 button.colab-df-convert');\n",
              "      buttonEl.style.display =\n",
              "        google.colab.kernel.accessAllowed ? 'block' : 'none';\n",
              "\n",
              "      async function convertToInteractive(key) {\n",
              "        const element = document.querySelector('#df-7c6690aa-2eb3-409d-8a1f-3d14fd1ed134');\n",
              "        const dataTable =\n",
              "          await google.colab.kernel.invokeFunction('convertToInteractive',\n",
              "                                                    [key], {});\n",
              "        if (!dataTable) return;\n",
              "\n",
              "        const docLinkHtml = 'Like what you see? Visit the ' +\n",
              "          '<a target=\"_blank\" href=https://colab.research.google.com/notebooks/data_table.ipynb>data table notebook</a>'\n",
              "          + ' to learn more about interactive tables.';\n",
              "        element.innerHTML = '';\n",
              "        dataTable['output_type'] = 'display_data';\n",
              "        await google.colab.output.renderOutput(dataTable, element);\n",
              "        const docLink = document.createElement('div');\n",
              "        docLink.innerHTML = docLinkHtml;\n",
              "        element.appendChild(docLink);\n",
              "      }\n",
              "    </script>\n",
              "  </div>\n",
              "\n",
              "\n",
              "<div id=\"df-32be29ad-d858-49a8-a298-ba0902bf3ac4\">\n",
              "  <button class=\"colab-df-quickchart\" onclick=\"quickchart('df-32be29ad-d858-49a8-a298-ba0902bf3ac4')\"\n",
              "            title=\"Suggest charts\"\n",
              "            style=\"display:none;\">\n",
              "\n",
              "<svg xmlns=\"http://www.w3.org/2000/svg\" height=\"24px\"viewBox=\"0 0 24 24\"\n",
              "     width=\"24px\">\n",
              "    <g>\n",
              "        <path d=\"M19 3H5c-1.1 0-2 .9-2 2v14c0 1.1.9 2 2 2h14c1.1 0 2-.9 2-2V5c0-1.1-.9-2-2-2zM9 17H7v-7h2v7zm4 0h-2V7h2v10zm4 0h-2v-4h2v4z\"/>\n",
              "    </g>\n",
              "</svg>\n",
              "  </button>\n",
              "\n",
              "<style>\n",
              "  .colab-df-quickchart {\n",
              "      --bg-color: #E8F0FE;\n",
              "      --fill-color: #1967D2;\n",
              "      --hover-bg-color: #E2EBFA;\n",
              "      --hover-fill-color: #174EA6;\n",
              "      --disabled-fill-color: #AAA;\n",
              "      --disabled-bg-color: #DDD;\n",
              "  }\n",
              "\n",
              "  [theme=dark] .colab-df-quickchart {\n",
              "      --bg-color: #3B4455;\n",
              "      --fill-color: #D2E3FC;\n",
              "      --hover-bg-color: #434B5C;\n",
              "      --hover-fill-color: #FFFFFF;\n",
              "      --disabled-bg-color: #3B4455;\n",
              "      --disabled-fill-color: #666;\n",
              "  }\n",
              "\n",
              "  .colab-df-quickchart {\n",
              "    background-color: var(--bg-color);\n",
              "    border: none;\n",
              "    border-radius: 50%;\n",
              "    cursor: pointer;\n",
              "    display: none;\n",
              "    fill: var(--fill-color);\n",
              "    height: 32px;\n",
              "    padding: 0;\n",
              "    width: 32px;\n",
              "  }\n",
              "\n",
              "  .colab-df-quickchart:hover {\n",
              "    background-color: var(--hover-bg-color);\n",
              "    box-shadow: 0 1px 2px rgba(60, 64, 67, 0.3), 0 1px 3px 1px rgba(60, 64, 67, 0.15);\n",
              "    fill: var(--button-hover-fill-color);\n",
              "  }\n",
              "\n",
              "  .colab-df-quickchart-complete:disabled,\n",
              "  .colab-df-quickchart-complete:disabled:hover {\n",
              "    background-color: var(--disabled-bg-color);\n",
              "    fill: var(--disabled-fill-color);\n",
              "    box-shadow: none;\n",
              "  }\n",
              "\n",
              "  .colab-df-spinner {\n",
              "    border: 2px solid var(--fill-color);\n",
              "    border-color: transparent;\n",
              "    border-bottom-color: var(--fill-color);\n",
              "    animation:\n",
              "      spin 1s steps(1) infinite;\n",
              "  }\n",
              "\n",
              "  @keyframes spin {\n",
              "    0% {\n",
              "      border-color: transparent;\n",
              "      border-bottom-color: var(--fill-color);\n",
              "      border-left-color: var(--fill-color);\n",
              "    }\n",
              "    20% {\n",
              "      border-color: transparent;\n",
              "      border-left-color: var(--fill-color);\n",
              "      border-top-color: var(--fill-color);\n",
              "    }\n",
              "    30% {\n",
              "      border-color: transparent;\n",
              "      border-left-color: var(--fill-color);\n",
              "      border-top-color: var(--fill-color);\n",
              "      border-right-color: var(--fill-color);\n",
              "    }\n",
              "    40% {\n",
              "      border-color: transparent;\n",
              "      border-right-color: var(--fill-color);\n",
              "      border-top-color: var(--fill-color);\n",
              "    }\n",
              "    60% {\n",
              "      border-color: transparent;\n",
              "      border-right-color: var(--fill-color);\n",
              "    }\n",
              "    80% {\n",
              "      border-color: transparent;\n",
              "      border-right-color: var(--fill-color);\n",
              "      border-bottom-color: var(--fill-color);\n",
              "    }\n",
              "    90% {\n",
              "      border-color: transparent;\n",
              "      border-bottom-color: var(--fill-color);\n",
              "    }\n",
              "  }\n",
              "</style>\n",
              "\n",
              "  <script>\n",
              "    async function quickchart(key) {\n",
              "      const quickchartButtonEl =\n",
              "        document.querySelector('#' + key + ' button');\n",
              "      quickchartButtonEl.disabled = true;  // To prevent multiple clicks.\n",
              "      quickchartButtonEl.classList.add('colab-df-spinner');\n",
              "      try {\n",
              "        const charts = await google.colab.kernel.invokeFunction(\n",
              "            'suggestCharts', [key], {});\n",
              "      } catch (error) {\n",
              "        console.error('Error during call to suggestCharts:', error);\n",
              "      }\n",
              "      quickchartButtonEl.classList.remove('colab-df-spinner');\n",
              "      quickchartButtonEl.classList.add('colab-df-quickchart-complete');\n",
              "    }\n",
              "    (() => {\n",
              "      let quickchartButtonEl =\n",
              "        document.querySelector('#df-32be29ad-d858-49a8-a298-ba0902bf3ac4 button');\n",
              "      quickchartButtonEl.style.display =\n",
              "        google.colab.kernel.accessAllowed ? 'block' : 'none';\n",
              "    })();\n",
              "  </script>\n",
              "</div>\n",
              "\n",
              "    </div>\n",
              "  </div>\n"
            ],
            "application/vnd.google.colaboratory.intrinsic+json": {
              "type": "dataframe",
              "variable_name": "df",
              "summary": "{\n  \"name\": \"df\",\n  \"rows\": 100,\n  \"fields\": [\n    {\n      \"column\": \"sentiment\",\n      \"properties\": {\n        \"dtype\": \"number\",\n        \"std\": 0,\n        \"min\": 0,\n        \"max\": 1,\n        \"num_unique_values\": 2,\n        \"samples\": [\n          0,\n          1\n        ],\n        \"semantic_type\": \"\",\n        \"description\": \"\"\n      }\n    },\n    {\n      \"column\": \"stemmed_tokens\",\n      \"properties\": {\n        \"dtype\": \"string\",\n        \"num_unique_values\": 100,\n        \"samples\": [\n          \"['fate', 'lead', 'walter', 'sparrow', ' ', 'come', ' ', 'possess', '  ', 'mysteri', 'novel', '  ', 'eeri', 'similar', ' ', 'connect', '  ', 'life', ' ', 'base', 'around', ' ', 'number', '23', '  ', 'stori', 'unfold', ' ', 'real', 'life', ' ', 'fiction', 'sparrow', 'must', 'figur', '  ', 'connect', '  ', 'book', '   ', 'stori', ' ', 'eventu', 'endth', 'number', '23', 'offer', ' ', 'intrigu', 'premis', '  ', 'undon', '  ', 'weak', 'execut', ' ', 'film', ' ', 'fail', ' ', 'mani', 'differ', 'level', '  ', 'pretti', 'disappoint', '  ', 'held', ' ', 'much', 'potenti', ' ', 'screenplay', ' ', 'probabl', ' ', 'worst', 'part', '    ', 'fill', ' ', 'silli', 'sequenc', ' ', 'laughabl', 'dialog', '  ', 'kill', ' ', 'mood', '  ', 'movi', ' ', 'seem', 'like', ' ', 'screenwrit', '  ', 'good', 'idea', '  ', 'did', 'nt', 'know', '  ', 'develop', '  ', 'stretch', '  ', 'nineti', 'minut', 'run', 'time', ' ', 'second', 'half', '  ', 'film', ' ', 'run', 'low', ' ', 'idea', ' ', 'twist', ' ', 'pretti', 'obviou', '  ', 'end', ' ', 'awfuljoel', 'schumach', ' ', 'respons', ' ', 'one', '  ', 'worst', 'movi', 'ever', '   ', 'redeem', '  ', 'littl', ' ', 'phone', 'booth', '    ', 'film', '  ', 'number', '23', 'remind', '  ', 'he', 's', 'still', 'capabl', ' ', 'make', ' ', 'stinker', '   ', 'movi', 'drench', ' ', 'style', '   ', 'ca', 'nt', 'get', ' ', 'good', 'focu', ' ', 'move', ' ', 'film', '  ', 'clunki', ' ', 'slow', 'pace', ' ', 'switch', ' ', 'realiti', ' ', 'what', 's', 'actual', 'happen', '  ', 'book', ' ', 'quickli', 'got', 'annoy', ' ', 'actual', 'book', '  ', 'film', 'that', 's', 'titl', ' ', 'number', '23', '  ', 'aw', 'detect', 'stori', '  ', 'audienc', 'get', 'stuck', 'listen', ' ', 'carrey', 'narrat', '   ', 'bore', '  ', 'tear', ' ', 'carrey', ' ', 'final', 'done', ' ', 'book', ' ', 'get', 'stuck', 'watch', ' ', 'run', 'around', 'tri', ' ', 'solv', ' ', 'mysteri', '  ', 'point', ' ', 'audienc', ' ', 'lost', 'interest', '    ', 'real', 'tension', ' ', 'impati', 'wait', '  ', 'movi', ' ', 'reach', ' ', 'horribl', 'end', ' ', 'unconvinc', 'explan', ' ', 'celebr', ' ', 'film', ' ', 'final', 'finishedth', 'act', ' ', 'mostli', 'averag', ' ', 'pretti', 'forgett', 'jim', 'carrey', ' ', 'clearli', ' ', 'sleepwalk', '  ', 'perform', '  ', 'did', 'nt', 'even', 'seem', '  ', 'tri', '  ', 'either', 'complet', '  ', 'top', '  ', 'scene', '   ', 'wooden', ' ', 'narrat', '  ', 'complet', 'bore', ' ', 'listen', '   ', 'put', ' ', 'life', 'insid', ' ', 'charact', 'virginia', 'madsen', '  ', 'best', ' ', 'could', '  ', 'limit', 'role', '  ', 'need', ' ', 'pick', 'better', 'script', 'logan', 'lerman', ' ', 'pretti', 'bland', '  ', 'danni', 'huston', 'overal', ' ', 'number', '23', '  ', 'aw', 'thriller', ' ', 'offer', ' ', 'laugh', ' ', 'suspens', ' ', 'thrill', 'rate', '310']\",\n          \"[' ', 'can', 'not', 'believ', ' ', 'enjoy', '  ', 'much', '    ', 'antholog', 'stori', ' ', 'better', ' ', 'par', '  ', 'link', 'stori', '  ', 'surpris', 'end', 'hook', ' ', 'alot', ' ', 'familiar', 'face', ' ', 'keep', ' ', 'ask', '     ', 'seen', '  ', 'forget', ' ', 'run', 'time', 'list', ' ', 'new', 'line', 'tape', ' ', 'ai', 'nt', ' ', '103', 'minut', 'accord', '  ', 'vcr', 'timer', ' ', 'imdb', 'space', 'maggot', 'dous', ' ', 'campfir', '   ', 'special', 'way', ' ', 'hike', '  ', '8']\"\n        ],\n        \"semantic_type\": \"\",\n        \"description\": \"\"\n      }\n    }\n  ]\n}"
            }
          },
          "metadata": {},
          "execution_count": 6
        }
      ]
    },
    {
      "cell_type": "code",
      "source": [
        "from sklearn.feature_extraction.text import CountVectorizer # Make sure to import from sklearn.feature_extraction.text\n",
        "cv = CountVectorizer()"
      ],
      "metadata": {
        "id": "389f4u9DBSUs"
      },
      "execution_count": 10,
      "outputs": []
    },
    {
      "cell_type": "code",
      "source": [
        "bow = cv.fit_transform(df['stemmed_tokens'])"
      ],
      "metadata": {
        "id": "DjXRNtYBTu31"
      },
      "execution_count": 11,
      "outputs": []
    },
    {
      "cell_type": "code",
      "source": [
        "bow[0].toarray()"
      ],
      "metadata": {
        "colab": {
          "base_uri": "https://localhost:8080/"
        },
        "id": "-PPthTaHUBoE",
        "outputId": "4ccb0aa3-9d40-4382-e74a-127ea273b6ac"
      },
      "execution_count": 15,
      "outputs": [
        {
          "output_type": "execute_result",
          "data": {
            "text/plain": [
              "array([[0, 0, 0, ..., 0, 0, 0]])"
            ]
          },
          "metadata": {},
          "execution_count": 15
        }
      ]
    },
    {
      "cell_type": "code",
      "source": [
        "df['cv']= bow.toarray().tolist()"
      ],
      "metadata": {
        "id": "tlMiMUC-UEAM"
      },
      "execution_count": 16,
      "outputs": []
    },
    {
      "cell_type": "code",
      "source": [
        "df.head()"
      ],
      "metadata": {
        "colab": {
          "base_uri": "https://localhost:8080/",
          "height": 293
        },
        "id": "KdGTV6_EVxO_",
        "outputId": "59a464ce-5a82-41d6-fa33-3e56c52ed52d"
      },
      "execution_count": 17,
      "outputs": [
        {
          "output_type": "execute_result",
          "data": {
            "text/plain": [
              "   sentiment                                     stemmed_tokens  \\\n",
              "0          1  ['one', '   ', 'review', ' ', 'mention', '  ',...   \n",
              "1          1  [' ', 'wonder', 'littl', 'product', ' ', 'film...   \n",
              "2          1  [' ', 'thought', '   ', 'wonder', 'way', ' ', ...   \n",
              "3          0  ['basic', 'there', 's', ' ', 'famili', '  ', '...   \n",
              "4          1  ['petter', 'mattei', 'love', '  ', 'time', ' '...   \n",
              "\n",
              "                                                  cv  \n",
              "0  [0, 0, 0, 0, 0, 0, 0, 0, 0, 0, 0, 0, 0, 0, 0, ...  \n",
              "1  [0, 0, 0, 0, 0, 0, 0, 0, 0, 0, 0, 0, 0, 0, 0, ...  \n",
              "2  [0, 0, 0, 0, 0, 0, 0, 0, 0, 0, 0, 0, 0, 0, 0, ...  \n",
              "3  [0, 1, 0, 0, 0, 0, 0, 0, 0, 0, 0, 0, 0, 0, 0, ...  \n",
              "4  [0, 0, 0, 0, 0, 0, 0, 0, 0, 0, 0, 0, 0, 0, 0, ...  "
            ],
            "text/html": [
              "\n",
              "  <div id=\"df-66516d25-70b4-46fc-a9aa-3d664bb8fc25\" class=\"colab-df-container\">\n",
              "    <div>\n",
              "<style scoped>\n",
              "    .dataframe tbody tr th:only-of-type {\n",
              "        vertical-align: middle;\n",
              "    }\n",
              "\n",
              "    .dataframe tbody tr th {\n",
              "        vertical-align: top;\n",
              "    }\n",
              "\n",
              "    .dataframe thead th {\n",
              "        text-align: right;\n",
              "    }\n",
              "</style>\n",
              "<table border=\"1\" class=\"dataframe\">\n",
              "  <thead>\n",
              "    <tr style=\"text-align: right;\">\n",
              "      <th></th>\n",
              "      <th>sentiment</th>\n",
              "      <th>stemmed_tokens</th>\n",
              "      <th>cv</th>\n",
              "    </tr>\n",
              "  </thead>\n",
              "  <tbody>\n",
              "    <tr>\n",
              "      <th>0</th>\n",
              "      <td>1</td>\n",
              "      <td>['one', '   ', 'review', ' ', 'mention', '  ',...</td>\n",
              "      <td>[0, 0, 0, 0, 0, 0, 0, 0, 0, 0, 0, 0, 0, 0, 0, ...</td>\n",
              "    </tr>\n",
              "    <tr>\n",
              "      <th>1</th>\n",
              "      <td>1</td>\n",
              "      <td>[' ', 'wonder', 'littl', 'product', ' ', 'film...</td>\n",
              "      <td>[0, 0, 0, 0, 0, 0, 0, 0, 0, 0, 0, 0, 0, 0, 0, ...</td>\n",
              "    </tr>\n",
              "    <tr>\n",
              "      <th>2</th>\n",
              "      <td>1</td>\n",
              "      <td>[' ', 'thought', '   ', 'wonder', 'way', ' ', ...</td>\n",
              "      <td>[0, 0, 0, 0, 0, 0, 0, 0, 0, 0, 0, 0, 0, 0, 0, ...</td>\n",
              "    </tr>\n",
              "    <tr>\n",
              "      <th>3</th>\n",
              "      <td>0</td>\n",
              "      <td>['basic', 'there', 's', ' ', 'famili', '  ', '...</td>\n",
              "      <td>[0, 1, 0, 0, 0, 0, 0, 0, 0, 0, 0, 0, 0, 0, 0, ...</td>\n",
              "    </tr>\n",
              "    <tr>\n",
              "      <th>4</th>\n",
              "      <td>1</td>\n",
              "      <td>['petter', 'mattei', 'love', '  ', 'time', ' '...</td>\n",
              "      <td>[0, 0, 0, 0, 0, 0, 0, 0, 0, 0, 0, 0, 0, 0, 0, ...</td>\n",
              "    </tr>\n",
              "  </tbody>\n",
              "</table>\n",
              "</div>\n",
              "    <div class=\"colab-df-buttons\">\n",
              "\n",
              "  <div class=\"colab-df-container\">\n",
              "    <button class=\"colab-df-convert\" onclick=\"convertToInteractive('df-66516d25-70b4-46fc-a9aa-3d664bb8fc25')\"\n",
              "            title=\"Convert this dataframe to an interactive table.\"\n",
              "            style=\"display:none;\">\n",
              "\n",
              "  <svg xmlns=\"http://www.w3.org/2000/svg\" height=\"24px\" viewBox=\"0 -960 960 960\">\n",
              "    <path d=\"M120-120v-720h720v720H120Zm60-500h600v-160H180v160Zm220 220h160v-160H400v160Zm0 220h160v-160H400v160ZM180-400h160v-160H180v160Zm440 0h160v-160H620v160ZM180-180h160v-160H180v160Zm440 0h160v-160H620v160Z\"/>\n",
              "  </svg>\n",
              "    </button>\n",
              "\n",
              "  <style>\n",
              "    .colab-df-container {\n",
              "      display:flex;\n",
              "      gap: 12px;\n",
              "    }\n",
              "\n",
              "    .colab-df-convert {\n",
              "      background-color: #E8F0FE;\n",
              "      border: none;\n",
              "      border-radius: 50%;\n",
              "      cursor: pointer;\n",
              "      display: none;\n",
              "      fill: #1967D2;\n",
              "      height: 32px;\n",
              "      padding: 0 0 0 0;\n",
              "      width: 32px;\n",
              "    }\n",
              "\n",
              "    .colab-df-convert:hover {\n",
              "      background-color: #E2EBFA;\n",
              "      box-shadow: 0px 1px 2px rgba(60, 64, 67, 0.3), 0px 1px 3px 1px rgba(60, 64, 67, 0.15);\n",
              "      fill: #174EA6;\n",
              "    }\n",
              "\n",
              "    .colab-df-buttons div {\n",
              "      margin-bottom: 4px;\n",
              "    }\n",
              "\n",
              "    [theme=dark] .colab-df-convert {\n",
              "      background-color: #3B4455;\n",
              "      fill: #D2E3FC;\n",
              "    }\n",
              "\n",
              "    [theme=dark] .colab-df-convert:hover {\n",
              "      background-color: #434B5C;\n",
              "      box-shadow: 0px 1px 3px 1px rgba(0, 0, 0, 0.15);\n",
              "      filter: drop-shadow(0px 1px 2px rgba(0, 0, 0, 0.3));\n",
              "      fill: #FFFFFF;\n",
              "    }\n",
              "  </style>\n",
              "\n",
              "    <script>\n",
              "      const buttonEl =\n",
              "        document.querySelector('#df-66516d25-70b4-46fc-a9aa-3d664bb8fc25 button.colab-df-convert');\n",
              "      buttonEl.style.display =\n",
              "        google.colab.kernel.accessAllowed ? 'block' : 'none';\n",
              "\n",
              "      async function convertToInteractive(key) {\n",
              "        const element = document.querySelector('#df-66516d25-70b4-46fc-a9aa-3d664bb8fc25');\n",
              "        const dataTable =\n",
              "          await google.colab.kernel.invokeFunction('convertToInteractive',\n",
              "                                                    [key], {});\n",
              "        if (!dataTable) return;\n",
              "\n",
              "        const docLinkHtml = 'Like what you see? Visit the ' +\n",
              "          '<a target=\"_blank\" href=https://colab.research.google.com/notebooks/data_table.ipynb>data table notebook</a>'\n",
              "          + ' to learn more about interactive tables.';\n",
              "        element.innerHTML = '';\n",
              "        dataTable['output_type'] = 'display_data';\n",
              "        await google.colab.output.renderOutput(dataTable, element);\n",
              "        const docLink = document.createElement('div');\n",
              "        docLink.innerHTML = docLinkHtml;\n",
              "        element.appendChild(docLink);\n",
              "      }\n",
              "    </script>\n",
              "  </div>\n",
              "\n",
              "\n",
              "<div id=\"df-80a0a0d4-6abf-4571-93fd-7550e8aa0236\">\n",
              "  <button class=\"colab-df-quickchart\" onclick=\"quickchart('df-80a0a0d4-6abf-4571-93fd-7550e8aa0236')\"\n",
              "            title=\"Suggest charts\"\n",
              "            style=\"display:none;\">\n",
              "\n",
              "<svg xmlns=\"http://www.w3.org/2000/svg\" height=\"24px\"viewBox=\"0 0 24 24\"\n",
              "     width=\"24px\">\n",
              "    <g>\n",
              "        <path d=\"M19 3H5c-1.1 0-2 .9-2 2v14c0 1.1.9 2 2 2h14c1.1 0 2-.9 2-2V5c0-1.1-.9-2-2-2zM9 17H7v-7h2v7zm4 0h-2V7h2v10zm4 0h-2v-4h2v4z\"/>\n",
              "    </g>\n",
              "</svg>\n",
              "  </button>\n",
              "\n",
              "<style>\n",
              "  .colab-df-quickchart {\n",
              "      --bg-color: #E8F0FE;\n",
              "      --fill-color: #1967D2;\n",
              "      --hover-bg-color: #E2EBFA;\n",
              "      --hover-fill-color: #174EA6;\n",
              "      --disabled-fill-color: #AAA;\n",
              "      --disabled-bg-color: #DDD;\n",
              "  }\n",
              "\n",
              "  [theme=dark] .colab-df-quickchart {\n",
              "      --bg-color: #3B4455;\n",
              "      --fill-color: #D2E3FC;\n",
              "      --hover-bg-color: #434B5C;\n",
              "      --hover-fill-color: #FFFFFF;\n",
              "      --disabled-bg-color: #3B4455;\n",
              "      --disabled-fill-color: #666;\n",
              "  }\n",
              "\n",
              "  .colab-df-quickchart {\n",
              "    background-color: var(--bg-color);\n",
              "    border: none;\n",
              "    border-radius: 50%;\n",
              "    cursor: pointer;\n",
              "    display: none;\n",
              "    fill: var(--fill-color);\n",
              "    height: 32px;\n",
              "    padding: 0;\n",
              "    width: 32px;\n",
              "  }\n",
              "\n",
              "  .colab-df-quickchart:hover {\n",
              "    background-color: var(--hover-bg-color);\n",
              "    box-shadow: 0 1px 2px rgba(60, 64, 67, 0.3), 0 1px 3px 1px rgba(60, 64, 67, 0.15);\n",
              "    fill: var(--button-hover-fill-color);\n",
              "  }\n",
              "\n",
              "  .colab-df-quickchart-complete:disabled,\n",
              "  .colab-df-quickchart-complete:disabled:hover {\n",
              "    background-color: var(--disabled-bg-color);\n",
              "    fill: var(--disabled-fill-color);\n",
              "    box-shadow: none;\n",
              "  }\n",
              "\n",
              "  .colab-df-spinner {\n",
              "    border: 2px solid var(--fill-color);\n",
              "    border-color: transparent;\n",
              "    border-bottom-color: var(--fill-color);\n",
              "    animation:\n",
              "      spin 1s steps(1) infinite;\n",
              "  }\n",
              "\n",
              "  @keyframes spin {\n",
              "    0% {\n",
              "      border-color: transparent;\n",
              "      border-bottom-color: var(--fill-color);\n",
              "      border-left-color: var(--fill-color);\n",
              "    }\n",
              "    20% {\n",
              "      border-color: transparent;\n",
              "      border-left-color: var(--fill-color);\n",
              "      border-top-color: var(--fill-color);\n",
              "    }\n",
              "    30% {\n",
              "      border-color: transparent;\n",
              "      border-left-color: var(--fill-color);\n",
              "      border-top-color: var(--fill-color);\n",
              "      border-right-color: var(--fill-color);\n",
              "    }\n",
              "    40% {\n",
              "      border-color: transparent;\n",
              "      border-right-color: var(--fill-color);\n",
              "      border-top-color: var(--fill-color);\n",
              "    }\n",
              "    60% {\n",
              "      border-color: transparent;\n",
              "      border-right-color: var(--fill-color);\n",
              "    }\n",
              "    80% {\n",
              "      border-color: transparent;\n",
              "      border-right-color: var(--fill-color);\n",
              "      border-bottom-color: var(--fill-color);\n",
              "    }\n",
              "    90% {\n",
              "      border-color: transparent;\n",
              "      border-bottom-color: var(--fill-color);\n",
              "    }\n",
              "  }\n",
              "</style>\n",
              "\n",
              "  <script>\n",
              "    async function quickchart(key) {\n",
              "      const quickchartButtonEl =\n",
              "        document.querySelector('#' + key + ' button');\n",
              "      quickchartButtonEl.disabled = true;  // To prevent multiple clicks.\n",
              "      quickchartButtonEl.classList.add('colab-df-spinner');\n",
              "      try {\n",
              "        const charts = await google.colab.kernel.invokeFunction(\n",
              "            'suggestCharts', [key], {});\n",
              "      } catch (error) {\n",
              "        console.error('Error during call to suggestCharts:', error);\n",
              "      }\n",
              "      quickchartButtonEl.classList.remove('colab-df-spinner');\n",
              "      quickchartButtonEl.classList.add('colab-df-quickchart-complete');\n",
              "    }\n",
              "    (() => {\n",
              "      let quickchartButtonEl =\n",
              "        document.querySelector('#df-80a0a0d4-6abf-4571-93fd-7550e8aa0236 button');\n",
              "      quickchartButtonEl.style.display =\n",
              "        google.colab.kernel.accessAllowed ? 'block' : 'none';\n",
              "    })();\n",
              "  </script>\n",
              "</div>\n",
              "\n",
              "    </div>\n",
              "  </div>\n"
            ],
            "application/vnd.google.colaboratory.intrinsic+json": {
              "type": "dataframe",
              "variable_name": "df",
              "summary": "{\n  \"name\": \"df\",\n  \"rows\": 100,\n  \"fields\": [\n    {\n      \"column\": \"sentiment\",\n      \"properties\": {\n        \"dtype\": \"number\",\n        \"std\": 0,\n        \"min\": 0,\n        \"max\": 1,\n        \"num_unique_values\": 2,\n        \"samples\": [\n          0,\n          1\n        ],\n        \"semantic_type\": \"\",\n        \"description\": \"\"\n      }\n    },\n    {\n      \"column\": \"stemmed_tokens\",\n      \"properties\": {\n        \"dtype\": \"string\",\n        \"num_unique_values\": 100,\n        \"samples\": [\n          \"['fate', 'lead', 'walter', 'sparrow', ' ', 'come', ' ', 'possess', '  ', 'mysteri', 'novel', '  ', 'eeri', 'similar', ' ', 'connect', '  ', 'life', ' ', 'base', 'around', ' ', 'number', '23', '  ', 'stori', 'unfold', ' ', 'real', 'life', ' ', 'fiction', 'sparrow', 'must', 'figur', '  ', 'connect', '  ', 'book', '   ', 'stori', ' ', 'eventu', 'endth', 'number', '23', 'offer', ' ', 'intrigu', 'premis', '  ', 'undon', '  ', 'weak', 'execut', ' ', 'film', ' ', 'fail', ' ', 'mani', 'differ', 'level', '  ', 'pretti', 'disappoint', '  ', 'held', ' ', 'much', 'potenti', ' ', 'screenplay', ' ', 'probabl', ' ', 'worst', 'part', '    ', 'fill', ' ', 'silli', 'sequenc', ' ', 'laughabl', 'dialog', '  ', 'kill', ' ', 'mood', '  ', 'movi', ' ', 'seem', 'like', ' ', 'screenwrit', '  ', 'good', 'idea', '  ', 'did', 'nt', 'know', '  ', 'develop', '  ', 'stretch', '  ', 'nineti', 'minut', 'run', 'time', ' ', 'second', 'half', '  ', 'film', ' ', 'run', 'low', ' ', 'idea', ' ', 'twist', ' ', 'pretti', 'obviou', '  ', 'end', ' ', 'awfuljoel', 'schumach', ' ', 'respons', ' ', 'one', '  ', 'worst', 'movi', 'ever', '   ', 'redeem', '  ', 'littl', ' ', 'phone', 'booth', '    ', 'film', '  ', 'number', '23', 'remind', '  ', 'he', 's', 'still', 'capabl', ' ', 'make', ' ', 'stinker', '   ', 'movi', 'drench', ' ', 'style', '   ', 'ca', 'nt', 'get', ' ', 'good', 'focu', ' ', 'move', ' ', 'film', '  ', 'clunki', ' ', 'slow', 'pace', ' ', 'switch', ' ', 'realiti', ' ', 'what', 's', 'actual', 'happen', '  ', 'book', ' ', 'quickli', 'got', 'annoy', ' ', 'actual', 'book', '  ', 'film', 'that', 's', 'titl', ' ', 'number', '23', '  ', 'aw', 'detect', 'stori', '  ', 'audienc', 'get', 'stuck', 'listen', ' ', 'carrey', 'narrat', '   ', 'bore', '  ', 'tear', ' ', 'carrey', ' ', 'final', 'done', ' ', 'book', ' ', 'get', 'stuck', 'watch', ' ', 'run', 'around', 'tri', ' ', 'solv', ' ', 'mysteri', '  ', 'point', ' ', 'audienc', ' ', 'lost', 'interest', '    ', 'real', 'tension', ' ', 'impati', 'wait', '  ', 'movi', ' ', 'reach', ' ', 'horribl', 'end', ' ', 'unconvinc', 'explan', ' ', 'celebr', ' ', 'film', ' ', 'final', 'finishedth', 'act', ' ', 'mostli', 'averag', ' ', 'pretti', 'forgett', 'jim', 'carrey', ' ', 'clearli', ' ', 'sleepwalk', '  ', 'perform', '  ', 'did', 'nt', 'even', 'seem', '  ', 'tri', '  ', 'either', 'complet', '  ', 'top', '  ', 'scene', '   ', 'wooden', ' ', 'narrat', '  ', 'complet', 'bore', ' ', 'listen', '   ', 'put', ' ', 'life', 'insid', ' ', 'charact', 'virginia', 'madsen', '  ', 'best', ' ', 'could', '  ', 'limit', 'role', '  ', 'need', ' ', 'pick', 'better', 'script', 'logan', 'lerman', ' ', 'pretti', 'bland', '  ', 'danni', 'huston', 'overal', ' ', 'number', '23', '  ', 'aw', 'thriller', ' ', 'offer', ' ', 'laugh', ' ', 'suspens', ' ', 'thrill', 'rate', '310']\",\n          \"[' ', 'can', 'not', 'believ', ' ', 'enjoy', '  ', 'much', '    ', 'antholog', 'stori', ' ', 'better', ' ', 'par', '  ', 'link', 'stori', '  ', 'surpris', 'end', 'hook', ' ', 'alot', ' ', 'familiar', 'face', ' ', 'keep', ' ', 'ask', '     ', 'seen', '  ', 'forget', ' ', 'run', 'time', 'list', ' ', 'new', 'line', 'tape', ' ', 'ai', 'nt', ' ', '103', 'minut', 'accord', '  ', 'vcr', 'timer', ' ', 'imdb', 'space', 'maggot', 'dous', ' ', 'campfir', '   ', 'special', 'way', ' ', 'hike', '  ', '8']\"\n        ],\n        \"semantic_type\": \"\",\n        \"description\": \"\"\n      }\n    },\n    {\n      \"column\": \"cv\",\n      \"properties\": {\n        \"dtype\": \"object\",\n        \"semantic_type\": \"\",\n        \"description\": \"\"\n      }\n    }\n  ]\n}"
            }
          },
          "metadata": {},
          "execution_count": 17
        }
      ]
    },
    {
      "cell_type": "code",
      "source": [
        "len(df['cv'][0])"
      ],
      "metadata": {
        "colab": {
          "base_uri": "https://localhost:8080/"
        },
        "id": "jYSfU7tVVzeG",
        "outputId": "12a76315-4c8c-453c-f315-418881304117"
      },
      "execution_count": 20,
      "outputs": [
        {
          "output_type": "execute_result",
          "data": {
            "text/plain": [
              "3936"
            ]
          },
          "metadata": {},
          "execution_count": 20
        }
      ]
    },
    {
      "cell_type": "code",
      "source": [
        "from sklearn.feature_extraction.text import TfidfVectorizer\n",
        "tfidf_vectorizer = TfidfVectorizer()\n",
        "X= tfidf_vectorizer.fit_transform(df['stemmed_tokens']).toarray()"
      ],
      "metadata": {
        "id": "sB9dMHWWWAic"
      },
      "execution_count": 36,
      "outputs": []
    },
    {
      "cell_type": "code",
      "source": [
        "y = df['sentiment']"
      ],
      "metadata": {
        "id": "vz9FYZt71UFa"
      },
      "execution_count": 39,
      "outputs": []
    },
    {
      "cell_type": "code",
      "source": [
        "y.shape"
      ],
      "metadata": {
        "colab": {
          "base_uri": "https://localhost:8080/"
        },
        "id": "E_puLxpN1rSq",
        "outputId": "7890a707-568a-4cd4-ae68-0078b4bd04eb"
      },
      "execution_count": 41,
      "outputs": [
        {
          "output_type": "execute_result",
          "data": {
            "text/plain": [
              "(100,)"
            ]
          },
          "metadata": {},
          "execution_count": 41
        }
      ]
    },
    {
      "cell_type": "code",
      "source": [
        "from sklearn.model_selection import train_test_split\n",
        "X_train,X_test,y_train,y_test = train_test_split(X,y,random_state=2,test_size=0.2)"
      ],
      "metadata": {
        "id": "HyokI12UyNl2"
      },
      "execution_count": 42,
      "outputs": []
    },
    {
      "cell_type": "code",
      "source": [
        "from sklearn.naive_bayes import GaussianNB,MultinomialNB,BernoulliNB\n",
        "from sklearn.metrics import accuracy_score,confusion_matrix,precision_score"
      ],
      "metadata": {
        "id": "AAEel30s0_bU"
      },
      "execution_count": 43,
      "outputs": []
    },
    {
      "cell_type": "code",
      "source": [
        "gnb = GaussianNB()\n",
        "mnb = MultinomialNB()\n",
        "bnb = BernoulliNB()"
      ],
      "metadata": {
        "id": "qzW3DLk82d4N"
      },
      "execution_count": 44,
      "outputs": []
    },
    {
      "cell_type": "code",
      "source": [
        "gnb.fit(X_train,y_train)\n",
        "y_pred = gnb.predict(X_test)\n",
        "print(accuracy_score(y_test,y_pred))\n",
        "print(confusion_matrix(y_test,y_pred))\n",
        "print(precision_score(y_test,y_pred))"
      ],
      "metadata": {
        "colab": {
          "base_uri": "https://localhost:8080/"
        },
        "id": "XAURuZza2gg_",
        "outputId": "4800227b-4e44-4857-a21a-6ae6b352662e"
      },
      "execution_count": 45,
      "outputs": [
        {
          "output_type": "stream",
          "name": "stdout",
          "text": [
            "0.65\n",
            "[[8 2]\n",
            " [5 5]]\n",
            "0.7142857142857143\n"
          ]
        }
      ]
    },
    {
      "cell_type": "code",
      "source": [
        "mnb.fit(X_train,y_train)\n",
        "y_pred = mnb.predict(X_test)\n",
        "print(accuracy_score(y_test,y_pred))\n",
        "print(confusion_matrix(y_test,y_pred))\n",
        "print(precision_score(y_test,y_pred))"
      ],
      "metadata": {
        "colab": {
          "base_uri": "https://localhost:8080/"
        },
        "id": "6PWyeuyZ2jQT",
        "outputId": "13bc0652-2e69-4e82-c463-5206fa8125a7"
      },
      "execution_count": 46,
      "outputs": [
        {
          "output_type": "stream",
          "name": "stdout",
          "text": [
            "0.5\n",
            "[[10  0]\n",
            " [10  0]]\n",
            "0.0\n"
          ]
        },
        {
          "output_type": "stream",
          "name": "stderr",
          "text": [
            "/usr/local/lib/python3.10/dist-packages/sklearn/metrics/_classification.py:1471: UndefinedMetricWarning: Precision is ill-defined and being set to 0.0 due to no predicted samples. Use `zero_division` parameter to control this behavior.\n",
            "  _warn_prf(average, modifier, msg_start, len(result))\n"
          ]
        }
      ]
    },
    {
      "cell_type": "code",
      "source": [
        "bnb.fit(X_train,y_train)\n",
        "y_pred = bnb.predict(X_test)\n",
        "print(accuracy_score(y_test,y_pred))\n",
        "print(confusion_matrix(y_test,y_pred))\n",
        "print(precision_score(y_test,y_pred))"
      ],
      "metadata": {
        "colab": {
          "base_uri": "https://localhost:8080/"
        },
        "id": "J-53f9oG2pT-",
        "outputId": "c702933f-bff8-493a-9276-74ed591a81df"
      },
      "execution_count": 47,
      "outputs": [
        {
          "output_type": "stream",
          "name": "stdout",
          "text": [
            "0.65\n",
            "[[10  0]\n",
            " [ 7  3]]\n",
            "1.0\n"
          ]
        }
      ]
    },
    {
      "cell_type": "code",
      "source": [],
      "metadata": {
        "id": "tuFiYDdH2uEU"
      },
      "execution_count": null,
      "outputs": []
    }
  ]
}