{
  "nbformat": 4,
  "nbformat_minor": 0,
  "metadata": {
    "colab": {
      "provenance": [],
      "authorship_tag": "ABX9TyOcbKwvJJf/yzMVJpuPoxw+",
      "include_colab_link": true
    },
    "kernelspec": {
      "name": "python3",
      "display_name": "Python 3"
    },
    "language_info": {
      "name": "python"
    }
  },
  "cells": [
    {
      "cell_type": "markdown",
      "metadata": {
        "id": "view-in-github",
        "colab_type": "text"
      },
      "source": [
        "<a href=\"https://colab.research.google.com/github/Nabarundutta/Amazon_ml/blob/master/nlp6.ipynb\" target=\"_parent\"><img src=\"https://colab.research.google.com/assets/colab-badge.svg\" alt=\"Open In Colab\"/></a>"
      ]
    },
    {
      "cell_type": "code",
      "execution_count": 1,
      "metadata": {
        "id": "NaSee8WWL6Po"
      },
      "outputs": [],
      "source": [
        "import gensim\n",
        "import os\n",
        "import numpy\n",
        "import nltk"
      ]
    },
    {
      "cell_type": "code",
      "source": [
        "from nltk import sent_tokenize\n",
        "from gensim.utils import simple_preprocess"
      ],
      "metadata": {
        "id": "MmrZHGa1MQ5L"
      },
      "execution_count": 2,
      "outputs": []
    },
    {
      "cell_type": "code",
      "source": [
        "nltk.download('punkt')"
      ],
      "metadata": {
        "colab": {
          "base_uri": "https://localhost:8080/"
        },
        "id": "G6NwMZp3NHkq",
        "outputId": "115ef6e4-2fa8-42f6-b021-7225630fa2a6"
      },
      "execution_count": 3,
      "outputs": [
        {
          "output_type": "stream",
          "name": "stderr",
          "text": [
            "[nltk_data] Downloading package punkt to /root/nltk_data...\n",
            "[nltk_data]   Package punkt is already up-to-date!\n"
          ]
        },
        {
          "output_type": "execute_result",
          "data": {
            "text/plain": [
              "True"
            ]
          },
          "metadata": {},
          "execution_count": 3
        }
      ]
    },
    {
      "cell_type": "code",
      "source": [
        "story = []\n",
        "for filename in os.listdir('data'):\n",
        "  with open(os.path.join('data',filename),encoding='windows-1252') as f:\n",
        "    corpus = f.read()\n",
        "    raw_sent = sent_tokenize(corpus)\n",
        "    for sent in raw_sent:\n",
        "      story.append(simple_preprocess(sent))"
      ],
      "metadata": {
        "id": "7lP2LA2TMeKK"
      },
      "execution_count": 4,
      "outputs": []
    },
    {
      "cell_type": "code",
      "source": [
        "len(story)"
      ],
      "metadata": {
        "colab": {
          "base_uri": "https://localhost:8080/"
        },
        "id": "6-mBU5rXM_2H",
        "outputId": "7c3e1526-6ff4-46d1-89af-019ee0a23d41"
      },
      "execution_count": 5,
      "outputs": [
        {
          "output_type": "execute_result",
          "data": {
            "text/plain": [
              "145020"
            ]
          },
          "metadata": {},
          "execution_count": 5
        }
      ]
    },
    {
      "cell_type": "code",
      "source": [
        "model = gensim.models.Word2Vec(\n",
        "    window = 10,\n",
        "    min_count=2\n",
        ")"
      ],
      "metadata": {
        "id": "BOhXqLDTNeds"
      },
      "execution_count": 6,
      "outputs": []
    },
    {
      "cell_type": "code",
      "source": [
        "model.build_vocab(story)"
      ],
      "metadata": {
        "id": "xGK38knvOI_-"
      },
      "execution_count": 10,
      "outputs": []
    },
    {
      "cell_type": "code",
      "source": [
        "model.corpus_count"
      ],
      "metadata": {
        "colab": {
          "base_uri": "https://localhost:8080/"
        },
        "id": "4JlQXEzjNoXQ",
        "outputId": "8c269791-d8fb-4b18-c3aa-798b5bf8fc55"
      },
      "execution_count": 11,
      "outputs": [
        {
          "output_type": "execute_result",
          "data": {
            "text/plain": [
              "145020"
            ]
          },
          "metadata": {},
          "execution_count": 11
        }
      ]
    },
    {
      "cell_type": "code",
      "source": [
        "model.epochs"
      ],
      "metadata": {
        "colab": {
          "base_uri": "https://localhost:8080/"
        },
        "id": "O5-8WeR8Nz3_",
        "outputId": "9cd376ce-339b-46ec-8996-62514993ce68"
      },
      "execution_count": 12,
      "outputs": [
        {
          "output_type": "execute_result",
          "data": {
            "text/plain": [
              "5"
            ]
          },
          "metadata": {},
          "execution_count": 12
        }
      ]
    },
    {
      "cell_type": "code",
      "source": [
        "model.train(story,total_examples=model.corpus_count,epochs=model.epochs)"
      ],
      "metadata": {
        "colab": {
          "base_uri": "https://localhost:8080/"
        },
        "id": "nzcbSwbPOF4c",
        "outputId": "c128545b-a662-4a4d-9bd5-6fa5f0dfd8d0"
      },
      "execution_count": 13,
      "outputs": [
        {
          "output_type": "execute_result",
          "data": {
            "text/plain": [
              "(6570196, 8628190)"
            ]
          },
          "metadata": {},
          "execution_count": 13
        }
      ]
    },
    {
      "cell_type": "code",
      "source": [
        "model.wv.similarity('arya','sansa')"
      ],
      "metadata": {
        "colab": {
          "base_uri": "https://localhost:8080/"
        },
        "id": "XjN7E92qOSbN",
        "outputId": "0993fd7d-34e7-4ad5-dd63-5b70ea561b4a"
      },
      "execution_count": 15,
      "outputs": [
        {
          "output_type": "execute_result",
          "data": {
            "text/plain": [
              "0.84987783"
            ]
          },
          "metadata": {},
          "execution_count": 15
        }
      ]
    },
    {
      "cell_type": "code",
      "source": [
        "model.wv[\"king\"]"
      ],
      "metadata": {
        "colab": {
          "base_uri": "https://localhost:8080/"
        },
        "id": "kvYl7Y1dOx73",
        "outputId": "db09bfa5-6122-4de8-dfaf-03e886a49d28"
      },
      "execution_count": 16,
      "outputs": [
        {
          "output_type": "execute_result",
          "data": {
            "text/plain": [
              "array([ 0.21630082, -0.64174825,  0.913083  ,  1.4369975 , -1.7418493 ,\n",
              "        1.1512847 ,  0.36523935,  1.8622036 , -1.9657571 ,  0.86800975,\n",
              "       -1.9584789 , -0.8007191 ,  0.33742347,  2.7583256 , -1.4469604 ,\n",
              "       -0.41898754,  0.17887975,  5.026791  ,  0.6563014 ,  1.2677897 ,\n",
              "        1.2338938 , -1.156181  ,  2.6710153 , -2.0928826 , -1.7705775 ,\n",
              "        2.5281684 , -2.7456827 , -1.1908416 , -0.4320399 ,  1.9334284 ,\n",
              "       -0.9519732 ,  0.31253603,  1.4582694 , -0.21740292,  1.51885   ,\n",
              "       -1.963857  , -3.386591  , -1.6755991 , -0.44752517, -0.5082813 ,\n",
              "       -0.4152417 ,  3.6045742 ,  3.827475  ,  0.801176  , -0.6086672 ,\n",
              "       -1.4292234 ,  0.52562857, -2.977102  ,  2.1660938 , -3.042344  ,\n",
              "       -1.901438  ,  0.2886593 , -1.4898129 , -1.9187701 ,  2.2297635 ,\n",
              "       -1.405592  ,  1.2719859 ,  1.7102168 ,  2.757479  ,  2.533615  ,\n",
              "        2.3927686 ,  1.7513955 , -0.0107995 ,  1.2098424 ,  0.15028684,\n",
              "        1.4321867 ,  0.03293617, -0.01039554,  0.16615818, -2.4536178 ,\n",
              "       -0.72542906,  1.1159735 ,  2.6279702 , -1.208764  ,  2.366925  ,\n",
              "       -0.0941136 ,  0.8197196 , -1.4595479 ,  0.43256292, -3.2119555 ,\n",
              "       -0.468489  ,  3.6842299 , -1.3319837 ,  0.9009726 , -2.4918864 ,\n",
              "       -1.0274575 ,  1.5450971 ,  2.7120585 ,  0.7835225 ,  0.20419294,\n",
              "        0.5865461 , -0.30919445, -1.0631224 , -3.962864  ,  1.4091258 ,\n",
              "       -3.6028929 , -1.2439173 ,  0.5790153 , -0.44512567,  1.6287867 ],\n",
              "      dtype=float32)"
            ]
          },
          "metadata": {},
          "execution_count": 16
        }
      ]
    },
    {
      "cell_type": "code",
      "source": [
        "model.wv.get_normed_vectors()"
      ],
      "metadata": {
        "colab": {
          "base_uri": "https://localhost:8080/"
        },
        "id": "q6KZ9PptO-0O",
        "outputId": "212539a5-2dcc-4540-ebb3-c4728320919f"
      },
      "execution_count": 17,
      "outputs": [
        {
          "output_type": "execute_result",
          "data": {
            "text/plain": [
              "array([[ 0.02315382,  0.07354143,  0.22943665, ...,  0.00134993,\n",
              "        -0.04301698,  0.14074269],\n",
              "       [-0.10602452, -0.06451612,  0.12013155, ..., -0.10441834,\n",
              "        -0.01491415,  0.06718621],\n",
              "       [ 0.10181946,  0.00672461, -0.08045214, ..., -0.04546462,\n",
              "         0.11133634, -0.11230271],\n",
              "       ...,\n",
              "       [-0.07707601,  0.07654674,  0.06414473, ..., -0.03091272,\n",
              "         0.01371903, -0.07460479],\n",
              "       [ 0.03176665,  0.16449405,  0.01752668, ...,  0.08677527,\n",
              "        -0.011634  , -0.04165784],\n",
              "       [-0.06279937,  0.08718127,  0.09758328, ...,  0.02538393,\n",
              "        -0.00991554,  0.03595612]], dtype=float32)"
            ]
          },
          "metadata": {},
          "execution_count": 17
        }
      ]
    },
    {
      "cell_type": "code",
      "source": [
        "y = model.wv.index_to_key"
      ],
      "metadata": {
        "id": "4A4TX-0PPCzs"
      },
      "execution_count": 20,
      "outputs": []
    },
    {
      "cell_type": "code",
      "source": [],
      "metadata": {
        "id": "FwbwKUPRPIL8"
      },
      "execution_count": null,
      "outputs": []
    }
  ]
}